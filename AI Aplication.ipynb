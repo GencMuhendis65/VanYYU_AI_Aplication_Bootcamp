{
  "nbformat": 4,
  "nbformat_minor": 0,
  "metadata": {
    "colab": {
      "provenance": []
    },
    "kernelspec": {
      "name": "python3",
      "display_name": "Python 3"
    },
    "language_info": {
      "name": "python"
    }
  },
  "cells": [
    {
      "cell_type": "code",
      "execution_count": 109,
      "metadata": {
        "id": "Pgfpv9Xtfn43"
      },
      "outputs": [],
      "source": [
        "import pandas as pd # Dataframe için\n",
        "import numpy as np # Sayısal işlemler için kullanılan kütüphanedir\n",
        "import seaborn as sns # Veri görselleştimek için kullanılan kütüphanedir (3D)\n",
        "import pandas as pd # Veri işilenmesi için kullanılan kütüphanedir\n",
        "import matplotlib.pyplot as plt # Veri görselleştimek için kullanılan kütüphanedir (2D)\n",
        "from sklearn.preprocessing import MinMaxScaler # Kütüphane ile veri ölçeklendirilir\n",
        "from sklearn.model_selection import train_test_split #  Veri setini eğitim ve test kümelerine ayırmak için kullanılan kütüphane\n",
        "from sklearn.tree import DecisionTreeClassifier # Karar ağacı algoritması için kullanılır"
      ]
    },
    {
      "cell_type": "code",
      "source": [
        "file_path = pd.read_csv(\"/content/hospital_appointment_data.csv\")\n",
        "data = pd.read_csv\n",
        "# Colaba yüklediğim veri setini bu kodla çektim"
      ],
      "metadata": {
        "id": "zBzws5snk2uz"
      },
      "execution_count": 111,
      "outputs": []
    },
    {
      "cell_type": "code",
      "source": [
        "print(file_path.head()) # Veri setinin ilk 5 satırı 0 dan 4 e kadar olan kısmı"
      ],
      "metadata": {
        "colab": {
          "base_uri": "https://localhost:8080/"
        },
        "id": "jOe-EFTGp6Ju",
        "outputId": "f1468c8d-45d1-4f53-b555-736bd1882ddc"
      },
      "execution_count": 100,
      "outputs": [
        {
          "output_type": "stream",
          "name": "stdout",
          "text": [
            "   AppointmentID  PatientID AppointmentDate AppointmentTime AppointmentDay  \\\n",
            "0              1       1102      2023-01-01        15:00:00         Sunday   \n",
            "1              2       1435      2023-01-02        11:00:00         Monday   \n",
            "2              3       1860      2023-01-03        09:00:00        Tuesday   \n",
            "3              4       1270      2023-01-04        09:00:00      Wednesday   \n",
            "4              5       1106      2023-01-05        17:30:00       Thursday   \n",
            "\n",
            "   PatientAge PatientGender      Disease  DoctorID  PreviousNoShow  \\\n",
            "0          78          Male   Pediatrics       110               3   \n",
            "1          33          Male      General       152               3   \n",
            "2          35          Male  Orthopedics       145               0   \n",
            "3           5        Female   Cardiology       129               1   \n",
            "4          38        Female   Pediatrics       156               0   \n",
            "\n",
            "  SMSReminder NoShow  \n",
            "0         Yes    Yes  \n",
            "1         Yes     No  \n",
            "2         Yes    Yes  \n",
            "3         Yes     No  \n",
            "4         Yes    Yes  \n"
          ]
        }
      ]
    },
    {
      "cell_type": "code",
      "source": [
        "print(file_path.tail()) # Veri setinin son 5 satırı"
      ],
      "metadata": {
        "colab": {
          "base_uri": "https://localhost:8080/"
        },
        "id": "NzadTgZ3qTCA",
        "outputId": "a2d993e6-4e92-47f4-b0cd-832bf0551c48"
      },
      "execution_count": 101,
      "outputs": [
        {
          "output_type": "stream",
          "name": "stdout",
          "text": [
            "     AppointmentID  PatientID AppointmentDate AppointmentTime AppointmentDay  \\\n",
            "995            996       1009      2025-09-22        13:00:00         Monday   \n",
            "996            997       1823      2025-09-23        10:30:00        Tuesday   \n",
            "997            998       1797      2025-09-24        09:30:00      Wednesday   \n",
            "998            999       1241      2025-09-25        10:30:00       Thursday   \n",
            "999           1000       1250      2025-09-26        09:30:00         Friday   \n",
            "\n",
            "     PatientAge PatientGender      Disease  DoctorID  PreviousNoShow  \\\n",
            "995          29        Female  Orthopedics       121               1   \n",
            "996          23          Male    Neurology       110               4   \n",
            "997          29        Female   Cardiology       176               2   \n",
            "998          85        Female      General       102               0   \n",
            "999          91          Male  Orthopedics       108               1   \n",
            "\n",
            "    SMSReminder NoShow  \n",
            "995          No    Yes  \n",
            "996         Yes     No  \n",
            "997          No     No  \n",
            "998          No     No  \n",
            "999         Yes    Yes  \n"
          ]
        }
      ]
    },
    {
      "cell_type": "code",
      "source": [
        "df = pd.read_csv('/content/hospital_appointment_data.csv') # Veriyi dataframeye çevirir"
      ],
      "metadata": {
        "id": "c8i54i9u3MgR"
      },
      "execution_count": 102,
      "outputs": []
    },
    {
      "cell_type": "code",
      "source": [
        "categorical_features = [\"PatientGender\", \"Disease\", \"AppointmentDay\", \"SMSReminder\", \"NoShow\"]\n",
        "file_path_encoded = pd.get_dummies(file_path, columns=categorical_features, drop_first=True)\n",
        "# Kategorik değişkenler kodlandı (One-Hot Encoding)"
      ],
      "metadata": {
        "id": "anq_tpLwsJdo"
      },
      "execution_count": 103,
      "outputs": []
    },
    {
      "cell_type": "code",
      "source": [
        "# Sayısal verilerin normalizasyonu\n",
        "numerical_features = [\"PatientAge\", \"PreviousNoShow\"]\n",
        "scaler = MinMaxScaler()\n",
        "file_path_encoded[numerical_features] = scaler.fit_transform(file_path_encoded[numerical_features])"
      ],
      "metadata": {
        "id": "OxnJk9_OtYK5"
      },
      "execution_count": 104,
      "outputs": []
    },
    {
      "cell_type": "code",
      "source": [
        "data = pd.DataFrame()\n",
        "X = file_path.drop(\"NoShow\", axis=1) # Hedef değişken NoShow'ı düşürüyoruz. Randevuya katılma ya da katılmama durumunun gösterilmesini ifade eder\n",
        "y = file_path[\"NoShow\"]\n"
      ],
      "metadata": {
        "id": "MLoMGxj7uSY5"
      },
      "execution_count": 105,
      "outputs": []
    },
    {
      "cell_type": "code",
      "source": [
        "# Decision Tree modeli oluşturma\n",
        "model = DecisionTreeClassifier(random_state=42)"
      ],
      "metadata": {
        "id": "hf5HEz6-w6PR"
      },
      "execution_count": 106,
      "outputs": []
    },
    {
      "cell_type": "code",
      "source": [
        "print(\"Veri setinin boyutu (satır, sütun):\", file_path.shape)\n",
        "\n",
        "file_path = np.random.rand(12, 1000)\n",
        "X = file_path[:, :1000]  # Özellikler ilk 4 sütun\n",
        "y = file_path[:, 999]   # Etiketler son sütun\n",
        "\n",
        "num_rows = file_path.shape[0]  # Satır sayısı\n",
        "num_cols = file_path.shape[1]  # Sütun sayısı\n",
        "\n",
        "print(\"Veri setindeki satır sayısı:\", num_rows)\n",
        "print(\"Veri setindeki sütun sayısı:\", num_cols)\n",
        "\n",
        "# Veri seti boyutlarını kontrol etme\n",
        "print(\"Eğitim veri seti boyutları:\")\n",
        "print(f\"X_train: {X_train.shape}, y_train: {y_train.shape}\")\n",
        "print(\"Test veri seti boyutları:\")\n",
        "print(f\"X_test: {X_test.shape}, y_test: {y_test.shape}\")"
      ],
      "metadata": {
        "colab": {
          "base_uri": "https://localhost:8080/"
        },
        "id": "svqHwF19vzeN",
        "outputId": "e276f63c-42aa-461d-f2b1-3601696481fd"
      },
      "execution_count": 107,
      "outputs": [
        {
          "output_type": "stream",
          "name": "stdout",
          "text": [
            "Veri setinin boyutu (satır, sütun): (1000, 12)\n",
            "Veri setindeki satır sayısı: 12\n",
            "Veri setindeki sütun sayısı: 1000\n",
            "Eğitim veri seti boyutları:\n",
            "X_train: (9, 1000), y_train: (9,)\n",
            "Test veri seti boyutları:\n",
            "X_test: (3, 1000), y_test: (3,)\n"
          ]
        }
      ]
    },
    {
      "cell_type": "code",
      "source": [
        "X_train, X_test, y_train, y_test = train_test_split(X, y, test_size=0.2, random_state=42) # Veri setini eğitim ve test kümelerine ayırma (80% eğitim, 20% test)\n"
      ],
      "metadata": {
        "id": "72eWflyHvVVu"
      },
      "execution_count": 108,
      "outputs": []
    }
  ]
}
